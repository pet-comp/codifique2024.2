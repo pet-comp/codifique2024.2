{
  "nbformat": 4,
  "nbformat_minor": 0,
  "metadata": {
    "colab": {
      "provenance": [],
      "collapsed_sections": [
        "HYTabkJY6Uce",
        "B4PN5VKmAk2j"
      ]
    },
    "kernelspec": {
      "name": "python3",
      "display_name": "Python 3"
    },
    "language_info": {
      "name": "python"
    }
  },
  "cells": [
    {
      "cell_type": "markdown",
      "source": [
        "# Aula 2 - Algoritmos, entrada e saída\n",
        "\n",
        "\n"
      ],
      "metadata": {
        "id": "M5Hf3FR6E6BT"
      }
    },
    {
      "cell_type": "markdown",
      "source": [
        "Agora que já entendemos o que são algoritmos, a escrita de mensagens na tela como saída de um programa de computador e a passagem de informações para um programa como entrada, vamos praticar!"
      ],
      "metadata": {
        "id": "jh_HZPs45njm"
      }
    },
    {
      "cell_type": "markdown",
      "source": [
        "## Exercício 1: Algoritmo do eletricista\n"
      ],
      "metadata": {
        "id": "HYTabkJY6Uce"
      }
    },
    {
      "cell_type": "markdown",
      "source": [
        "No campo abaixo, clique no botão de inicar \" ![image.png](data:image/png;base64,iVBORw0KGgoAAAANSUhEUgAAABEAAAAVCAYAAACg/AXsAAABC0lEQVQ4T62UsdJEQBCEe2MxuVxKzkt4CDGxmFgJicVyUpSQ1AOokpG6GvVT/nO3d4eJd7/p3pltNgzDjIvFniFZlqGqKpRl+Q+taRpUVYWu64eWG6TrOnieh77vubpEUYTjOJBleTu3QKh7EAQ/mbIsa1PF6rqebdv+CbAe9n1/UcRM05yfLUiSBEEQQBZ5RdbCMAQzDOMwHUVR4LouyGYcxxjH8S2LbHEhdHOaJqRpiiRJXoJoYh8h602yTKqKojiOmGfnVeumaRbY/r2+VrIC27ZFFEXnIJfsXH7YPM8X6R9HfMuy3bL2t3zANU8uR8F+qei/UCBRMO2L1puCiRtKp7Lg79IhHs/AHkxyzTOZK4xVAAAAAElFTkSuQmCC) \" e resolva o exercício.\n",
        "\n",
        "Um assistente de eletricista está no seu primeiro dia de trabalho, e ficou encarregado de trocar uma lâmpada queimada na sala do seu chefe como primeiro teste de aptidão. Seu chefe deixou cada passo para troca anotado em várias folhas arrancadas de um bloquinho de notas, presas em ordem por um clips de papel.\n",
        "\n",
        "O assistente removeu o clips e começou a leitura dos passos. Apressado, ele leu o primeiro passo, deixou as folhas em cima da mesa e foi pegar a escada para realizar a troca. Quando ele voltou para a sala, viu todos as folhas espalhadas pelo chão, e assobio do vento forte entrando pela janela do escritório, em um dos prédios mais altos do centro da cidade. Desesperado, o assistente te liga, sabendo que você estuda lógica de programação e algoritmos, e pede sua ajuda para reordenar a sequência de passos.\n",
        "\n",
        "Leia com calma cada um dos passos do algoritmo, para então ordená-los e digitar a sequência correta de passos. Digite a sequência sem inserir espaços entre os números."
      ],
      "metadata": {
        "id": "P6ZEaXhxAbvG"
      }
    },
    {
      "cell_type": "code",
      "source": [
        "# @title\n",
        "def menu():\n",
        "    print(\"\\nDigite a sequência correta do algortimo para trocar uma lâmpada queimada:\\n\")\n",
        "    print(\"1 - Gire a lâmpada queimada no sentido anti-horário até que ela se solte\")\n",
        "    print(\"2 - Posicione a lâmpada nova no soquete\")\n",
        "    print(\"3 - Suba na escada até alcançar a lâmpada queimada\")\n",
        "    print(\"4 - Coloque uma escada embaixo da lâmpada queimada\")\n",
        "    print(\"5 - Gire a lâmpada no sentido horário, até que ela se firme\")\n",
        "    print(\"6 - Guarde a escada\")\n",
        "    print(\"7 - Desça da escada\")\n",
        "    print(\"\\n-------------------------------------------------------------------------\\n\")\n",
        "\n",
        "lista = [4, 3, 1, 2, 5, 7, 6]\n",
        "\n",
        "menu()\n",
        "\n",
        "it = 0\n",
        "\n",
        "for i in lista:\n",
        "  n = int(input())\n",
        "  if n == i:\n",
        "    it += 1\n",
        "    pass\n",
        "  else:\n",
        "    print(\"\\nSequência errada! :(\\n\")\n",
        "    break\n",
        "\n",
        "if it == 7:\n",
        "  print(\"\\nSequência correta! :)\\n\")"
      ],
      "metadata": {
        "id": "Z78HsYOZ6KCO",
        "colab": {
          "base_uri": "https://localhost:8080/"
        },
        "outputId": "afd2c046-defc-454d-ecd2-cbf6509b5523",
        "cellView": "form"
      },
      "execution_count": null,
      "outputs": [
        {
          "output_type": "stream",
          "name": "stdout",
          "text": [
            "\n",
            "Digite a sequência correta do algortimo para trocar uma lâmpada queimada:\n",
            "\n",
            "1 - Gire a lâmpada queimada no sentido anti-horário até que ela se solte\n",
            "2 - Posicione a lâmpada nova no soquete\n",
            "3 - Suba na escada até alcançar a lâmpada queimada\n",
            "4 - Coloque uma escada embaixo da lâmpada queimada\n",
            "5 - Gire a lâmpada no sentido horário, até que ela se firme\n",
            "6 - Guarde a escada\n",
            "7 - Desça da escada\n",
            "\n",
            "-------------------------------------------------------------------------\n",
            "\n",
            "1234567\n",
            "\n",
            "Sequência errada! :(\n",
            "\n"
          ]
        }
      ]
    },
    {
      "cell_type": "markdown",
      "source": [
        "## Exercício 2: A Maldição"
      ],
      "metadata": {
        "id": "B4PN5VKmAk2j"
      }
    },
    {
      "cell_type": "markdown",
      "source": [
        "Antigamente, uma maldição foi lançada nos programadores do mundo todo, fazendo com que ninguém conseguisse nenhuma linguagens de programação, impedindo novos programadores de começarem.\n",
        "\n",
        "Após anos e anos de escuridão, descobriram que, para quebrar a maldição, qualquer novo programador, em suas primeiras linhas de código, deveria fazer a tela escrever a mensagem \"Hello World!\", se apresentando para o mundo da programação.\n",
        "\n",
        "Caso contrário ele seria aterrorizado pela linguagem para todo sempre, e nenhum código que ele escrevesse funcionaria!\n",
        "\n",
        "\n",
        "\n",
        "Quebre a maldição e escreva seu primeiro código em python! Escreva-o abaixo, e exeute-o usando o botão \" ![image.png](data:image/png;base64,iVBORw0KGgoAAAANSUhEUgAAABkAAAAZCAYAAADE6YVjAAABMklEQVRIS+WWsQ5EQBCG52o1vV5L7x28hKjRalGLklqUelrUtB5AoqO9y0g24Xb35O645ra0M/vN/Ds74zZN0x0uXrf/gZRlCW3bQtM0O1E1TQNVVUHX9UOxuXINwwBBEMA4ji8PEUURHMcBWZa5dkwIRh9F0WGEWwPLsrhZURDMwLbttwDEOAxDZkYUxDRNSiJJkkAQBMAAXi2ULo5jymQH4cmkKAp4nge4n6YpzPPMZbFk20F8318r6XkRCH5flgWKooAsy5ggrDjXdXd7O4hhGEzHLYQYYNVhVnVdUz55np8DIad0XbfCtvd1OqTve0iS5BrIx3L95OKPSriqqlWar0oYL/Pyx4iQn7QVBF3eIEn9X97qt88Vs8KB9dxusH3g4PpqaH3U6zlOf/QjcYZsD11OGMrVRmcyAAAAAElFTkSuQmCC) \""
      ],
      "metadata": {
        "id": "Y4i8P63AAqwe"
      }
    },
    {
      "cell_type": "code",
      "source": [],
      "metadata": {
        "id": "ugzpt-8tDPt6"
      },
      "execution_count": null,
      "outputs": []
    },
    {
      "cell_type": "markdown",
      "source": [
        "## Exercício 3: Eu duvido!"
      ],
      "metadata": {
        "id": "fplDF2tBR8e4"
      }
    },
    {
      "cell_type": "markdown",
      "source": [
        "Ao compartilhar um pouco dos seus aprendizados e vivências no curso Codifique em um grupo de amigos, seu amigo José, conhecido como \"Zé Pouca Fé\", desconfiou que você mentia quando disse a seguinte afirmação: **\"Computadores são máquinas de calcular\"**\n",
        "\n",
        "A réplica de seu amigo foi a seguinte: \"Computadores não fazem conta nenhuma! Quem faz é a calculadora! Computadores só servem para jogar, acessar a internet e fazer documentos.\"\n",
        "\n",
        "Intrigado pela ingenuidade de José, você resolve demonstrar o contrário para acabar de vez com seus comentários sem embasamento. Desenvolva um pequeno algoritmo que funcionará como uma calculadora:\n",
        "\n",
        "*   Receba dois números $n1$ e $n2$\n",
        "*   Realize operações aritméticas de soma, subtração, multiplicação e divisão\n",
        "*   Imprima os resultados das operações em ordem, acompanhados do nome da operação\n",
        "\n",
        "Exemplo: n1: 4 e n2: 2\n",
        "\n",
        "Soma: 6\n",
        "Subtração: 2\n",
        "Multiplicação: 8\n",
        "Divisão: 2\n",
        "\n",
        "Acabe com o desconhecimento de José e implemente uma calculadora simples! Escreva sua implementação abaixo e exeute-a usando o botão \" ![image.png](data:image/png;base64,iVBORw0KGgoAAAANSUhEUgAAABkAAAAZCAYAAADE6YVjAAABMklEQVRIS+WWsQ5EQBCG52o1vV5L7x28hKjRalGLklqUelrUtB5AoqO9y0g24Xb35O645ra0M/vN/Ds74zZN0x0uXrf/gZRlCW3bQtM0O1E1TQNVVUHX9UOxuXINwwBBEMA4ji8PEUURHMcBWZa5dkwIRh9F0WGEWwPLsrhZURDMwLbttwDEOAxDZkYUxDRNSiJJkkAQBMAAXi2ULo5jymQH4cmkKAp4nge4n6YpzPPMZbFk20F8318r6XkRCH5flgWKooAsy5ggrDjXdXd7O4hhGEzHLYQYYNVhVnVdUz55np8DIad0XbfCtvd1OqTve0iS5BrIx3L95OKPSriqqlWar0oYL/Pyx4iQn7QVBF3eIEn9X97qt88Vs8KB9dxusH3g4PpqaH3U6zlOf/QjcYZsD11OGMrVRmcyAAAAAElFTkSuQmCC) \""
      ],
      "metadata": {
        "id": "e0-RKFRbSBs5"
      }
    },
    {
      "cell_type": "code",
      "source": [],
      "metadata": {
        "id": "KfI8sF5fU_Hw"
      },
      "execution_count": null,
      "outputs": []
    }
  ]
}