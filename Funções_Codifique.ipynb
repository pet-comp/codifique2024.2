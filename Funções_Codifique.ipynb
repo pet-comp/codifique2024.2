{
  "nbformat": 4,
  "nbformat_minor": 0,
  "metadata": {
    "colab": {
      "provenance": [],
      "collapsed_sections": [
        "4lom2gEOe1ut",
        "Y-lTQqkhekRK",
        "9PZZRO5FbzS0",
        "CZIvgEQcRaC7",
        "ZaqbvJGnRoJZ",
        "R30p5M7NRuCt",
        "DGY1hB52RUxr"
      ]
    },
    "kernelspec": {
      "name": "python3",
      "display_name": "Python 3"
    },
    "language_info": {
      "name": "python"
    }
  },
  "cells": [
    {
      "cell_type": "markdown",
      "source": [
        "# Definição\n",
        "Uma coisa que é legal de evitar enquanto nós, programadores, estamos vendo aquelas letrinhas coloridas (e, às vezes, puxando os cabelos porque parece que tem hora que o pc não quer rodar), é a **repetição de trecho de código**"
      ],
      "metadata": {
        "id": "3w7-tBaAnren"
      }
    },
    {
      "cell_type": "code",
      "execution_count": null,
      "metadata": {
        "id": "TkB3NNR3nFCW"
      },
      "outputs": [],
      "source": [
        "a = 10; b = 50\n",
        "print(a+b)\n",
        "\n",
        "a = 20; b = 60\n",
        "print(a+b)\n",
        "\n",
        "a = 30; b = 70\n",
        "print(a+b)\n",
        "\n",
        "a = 40; b = 80\n",
        "print(a+b)\n",
        "\n",
        "a = 50; b = 90\n",
        "print(a+b)"
      ]
    },
    {
      "cell_type": "markdown",
      "source": [
        "Tem uma forma da gente, sommeliers de organização de letrinhas coloridas, deixar mais bonito o código?\n",
        "\n",
        "Para cortar a graça: sim, tem sim, são as chamadas **funções**\n",
        "\n",
        "Um exemplo seria refazer o \"experimento\" acima como uma dessas"
      ],
      "metadata": {
        "id": "hIm1_Pu1pX7X"
      }
    },
    {
      "cell_type": "code",
      "source": [
        "# pra definir uma função, a gnt usa o comando def, vem de \"define\" ou definir\n",
        "def soma(a,b):\n",
        "  return a+b\n",
        "\n",
        "print(soma(10, 50))\n",
        "\n",
        "# também dá pra fazer o seguinte\n",
        "\n",
        "def soma(a,b):\n",
        "  print(a+b)\n",
        "\n",
        "soma(10,50)\n"
      ],
      "metadata": {
        "id": "tQahkic7qL5S",
        "outputId": "4b79b45a-cad1-4b5e-bf0d-ca7170535cf5",
        "colab": {
          "base_uri": "https://localhost:8080/"
        }
      },
      "execution_count": null,
      "outputs": [
        {
          "output_type": "stream",
          "name": "stdout",
          "text": [
            "60\n",
            "60\n"
          ]
        }
      ]
    },
    {
      "cell_type": "markdown",
      "source": [
        "Agora, explicando umas coisas:\n",
        "* Essas coisas que a gente coloca entre parenteses do lado do nome da função são chamadas de **parâmetros** e servem para passar valores pra dentro das funções;\n",
        "\n",
        "* Não necessariamente as funções retornam um valor (aquele tal de \"return\" no primeiro exemplo faria isso, retornaria o valor);\n",
        "\n",
        "* A função nada mais é que um trecho de código que pode retornar ou não um valor a fim de evitar repetir código, então é possível utilizar tudo que foi visto até agora: lista, tupla, \"loop\" de repetição, condicional, tudo isso."
      ],
      "metadata": {
        "id": "9TS-KOuVrwHw"
      }
    },
    {
      "cell_type": "code",
      "source": [
        "# dá pra fazer umas coisas bem doidas com funções também, por incrível que pareça\n",
        "# como, por exemplo, retornar mais de um valor:\n",
        "\n",
        "def soma_multiplicacao(a,b):\n",
        "  return a+b, a*b\n",
        "\n",
        "s, m = soma_multiplicacao(10, 50)\n",
        "print(s, m)"
      ],
      "metadata": {
        "id": "ZDzhNYajwRl2"
      },
      "execution_count": null,
      "outputs": []
    },
    {
      "cell_type": "markdown",
      "source": [
        "Uma parada muito relevante quando se fala de função é **escopo de variável**.\n",
        "Primeiro, escopo tem o sentido de alvo, segundo o dicionário, mas no nosso contexto é, na verdade, um espaço.\n",
        "\n",
        "A ideia de ser um espaço é que, se eu declarar uma variável naquele espaço, ela só vai existir naquele espaço. Se eu tentar referenciar essa variável fora do espaço, ela não vai existir\n",
        "\n",
        "Dado esse contexto, também é possível usar uma variável **global**, que estaria presente meio que em todos os \"espaços\""
      ],
      "metadata": {
        "id": "B3K_FePRmFfv"
      }
    },
    {
      "cell_type": "code",
      "source": [
        "# É pra dar erro mesmo, não se assusta\n",
        "def teste():\n",
        "  existe = 1\n",
        "  print(existe)\n",
        "print(existe)"
      ],
      "metadata": {
        "id": "nzTet-S1nikU"
      },
      "execution_count": null,
      "outputs": []
    },
    {
      "cell_type": "markdown",
      "source": [
        "# Exercícios"
      ],
      "metadata": {
        "id": "TLjuhcE1RSUf"
      }
    },
    {
      "cell_type": "markdown",
      "source": [
        "### Exercícío 1 - Subtração\n",
        "Faça uma função que faça a subtração de dois números."
      ],
      "metadata": {
        "id": "4lom2gEOe1ut"
      }
    },
    {
      "cell_type": "code",
      "source": [],
      "metadata": {
        "id": "OZnvVa1MfHd9"
      },
      "execution_count": null,
      "outputs": []
    },
    {
      "cell_type": "markdown",
      "source": [
        "### Exercício 2 - Multiplicação\n",
        "Agora parecido com o anterior, faça uma função que calcula a multiplicação de dois números."
      ],
      "metadata": {
        "id": "Y-lTQqkhekRK"
      }
    },
    {
      "cell_type": "code",
      "source": [],
      "metadata": {
        "id": "tNCqhs5HfHFb"
      },
      "execution_count": null,
      "outputs": []
    },
    {
      "cell_type": "markdown",
      "source": [
        "### Exercício 3 - Olá, Mundo!\n",
        "\n",
        "Utilize funções para printar uma string (\"codifique\", por exemplo) 10 vezes\n"
      ],
      "metadata": {
        "id": "9PZZRO5FbzS0"
      }
    },
    {
      "cell_type": "code",
      "source": [],
      "metadata": {
        "id": "g4sNUApZRYIY"
      },
      "execution_count": null,
      "outputs": []
    },
    {
      "cell_type": "markdown",
      "source": [
        "### Exercício 4 - Imprimindo X vezes uma string\n",
        "\n",
        "Crie um código que solicite ao usuário a entrada de um número \\(X\\) e, em seguida, defina uma função que receba um inteiro como parâmetro. A função deverá imprimir a string 'Codifique' repetida \\(X\\) vezes.\n",
        "\n",
        "***\n",
        "\n",
        "**EXEMPLO DE ENTRADA:** *(se você digitar...)*   \n",
        "**Número:**\n",
        "&nbsp;&nbsp; <span style=\"color: #BB53B9\"> 3 </span>\n",
        "\n",
        "**EXEMPLO DE SAÍDA:** *(deverá sair...)*  \n",
        "<div style='color: #90EE90'>\n",
        "Codifique <br>\n",
        "Codifique <br>\n",
        "Codifique\n",
        "</div>"
      ],
      "metadata": {
        "id": "CZIvgEQcRaC7"
      }
    },
    {
      "cell_type": "code",
      "source": [],
      "metadata": {
        "id": "CE4RCOUjRc6L"
      },
      "execution_count": null,
      "outputs": []
    },
    {
      "cell_type": "markdown",
      "source": [
        "### Exercício 5 - Verificando idade para entrada no rolê\n",
        "\n",
        "Seu amigo segurança pediu sua ajuda para criar um código que verifique se uma pessoa pode ou não entrar no rolê. Para isso, o programa deve pedir para digitar a idade da pessoa. Se for maior ou igual a 18 anos, deverá imprimir \"tá liberado!!\", caso contrário, deverá imprimir \"tá proibido!!\".\n",
        "\n",
        "***\n",
        "\n",
        "**EXEMPLO DE ENTRADA:** *(se você digitar...)*  \n",
        "Idade:\n",
        "&nbsp;&nbsp; <span style=\"color: #BB53B9\"> 20 </span>\n",
        "\n",
        "**EXEMPLO DE SAÍDA:** *(deverá sair...)*  \n",
        "<div style='color: #90EE90'>  \n",
        "tá liberado!!  \n",
        "</div>\n",
        "\n",
        "***\n",
        "\n",
        "**EXEMPLO DE ENTRADA:** *(se você digitar...)*  \n",
        "Idade:\n",
        "&nbsp;&nbsp; <span style=\"color: #BB53B9\"> 16 </span>\n",
        "\n",
        "**EXEMPLO DE SAÍDA:** *(deverá sair...)*  \n",
        "<div style='color: #FF6347'>  \n",
        "tá proibido!!  \n",
        "</div>"
      ],
      "metadata": {
        "id": "ZaqbvJGnRoJZ"
      }
    },
    {
      "cell_type": "code",
      "source": [],
      "metadata": {
        "id": "kBLFBBq0Rn3H"
      },
      "execution_count": null,
      "outputs": []
    },
    {
      "cell_type": "markdown",
      "source": [
        "### (EXTRA) Exercício 6 - Calculadora de pessoas no rolê\n",
        "\n",
        "Seu amigo precisa de uma calculadora para contar quantas pessoas foram ao rolê, usando apenas as operações de soma e subtração. O programa deve perguntar ao usuário qual operação ele quer realizar:  \n",
        "- [1] - Soma  \n",
        "- [2] - Subtração  \n",
        "\n",
        "Em seguida, deve pedir dois números inteiros para realizar a operação selecionada e exibir o resultado.\n",
        "\n",
        "***\n",
        "\n",
        "**EXEMPLO DE ENTRADA:**  \n",
        "Digite a operação que você irá querer:  \n",
        "[1] - Soma  \n",
        "[2] - Subtração  \n",
        "Escolha:\n",
        "&nbsp;&nbsp; <span style=\"color: #BB53B9\"> 1 </span>  \n",
        "Número 1:\n",
        "&nbsp;&nbsp; <span style=\"color: #BB53B9\"> 50 </span>   \n",
        "Número 2:\n",
        "&nbsp;&nbsp; <span style=\"color: #BB53B9\"> 20 </span>   \n",
        "\n",
        "**EXEMPLO DE SAÍDA:**  \n",
        "<div style='color: #90EE90'>  \n",
        "Resultado: 70  \n",
        "</div>\n",
        "\n",
        "***\n",
        "\n",
        "**EXEMPLO DE ENTRADA:**  \n",
        "Digite a operação que você irá querer:  \n",
        "[1] - Soma  \n",
        "[2] - Subtração  \n",
        "Escolha:\n",
        "&nbsp;&nbsp; <span style=\"color: #BB53B9\"> 2 </span>  \n",
        "Número 1:\n",
        "&nbsp;&nbsp; <span style=\"color: #BB53B9\"> 100 </span>   \n",
        "Número 2:\n",
        "&nbsp;&nbsp; <span style=\"color: #BB53B9\"> 30 </span>  \n",
        "\n",
        "**EXEMPLO DE SAÍDA:**  \n",
        "<div style='color: #FF6347'>  \n",
        "Resultado: 70  \n",
        "</div>"
      ],
      "metadata": {
        "id": "R30p5M7NRuCt"
      }
    },
    {
      "cell_type": "code",
      "source": [],
      "metadata": {
        "id": "eNdrlGntRuxj"
      },
      "execution_count": null,
      "outputs": []
    },
    {
      "cell_type": "markdown",
      "source": [
        "### (EXTRA) Exercício 7 - Calculadora com multiplicação e divisão\n",
        "\n",
        "Agora os organizadores do rolê pediram para você complementar a calculadora com as operações de multiplicação e divisão. O programa deve perguntar ao usuário qual operação ele quer realizar:  \n",
        "- [1] - Soma  \n",
        "- [2] - Subtração  \n",
        "- [3] - Multiplicação  \n",
        "- [4] - Divisão  \n",
        "\n",
        "Em seguida, deve pedir dois números e realizar a operação selecionada, exibindo o resultado.\n",
        "\n",
        "***\n",
        "\n",
        "**EXEMPLO DE ENTRADA:**  \n",
        "Digite a operação que você irá querer:  \n",
        "[1] - Soma  \n",
        "[2] - Subtração  \n",
        "[3] - Multiplicação  \n",
        "[4] - Divisão  \n",
        "Escolha:\n",
        "&nbsp;&nbsp; <span style=\"color: #BB53B9\"> 3 </span>  \n",
        "Número 1:\n",
        "&nbsp;&nbsp; <span style=\"color: #BB53B9\"> 10 </span>   \n",
        "Número 2:\n",
        "&nbsp;&nbsp; <span style=\"color: #BB53B9\"> 5 </span>  \n",
        "\n",
        "**EXEMPLO DE SAÍDA:**  \n",
        "<div style='color: #90EE90'>  \n",
        "Resultado: 50  \n",
        "</div>"
      ],
      "metadata": {
        "id": "DGY1hB52RUxr"
      }
    },
    {
      "cell_type": "code",
      "source": [],
      "metadata": {
        "id": "nQaVaUWLRxMf"
      },
      "execution_count": null,
      "outputs": []
    }
  ]
}